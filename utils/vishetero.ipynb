{
 "cells": [
  {
   "cell_type": "code",
   "execution_count": 3,
   "metadata": {},
   "outputs": [
    {
     "name": "stdout",
     "output_type": "stream",
     "text": [
      "no pickle files\n"
     ]
    },
    {
     "ename": "FileNotFoundError",
     "evalue": "[Errno 2] No such file or directory: '../datasets/MUTAG/GED_hetero.txt'",
     "output_type": "error",
     "traceback": [
      "\u001b[0;31m---------------------------------------------------------------------------\u001b[0m",
      "\u001b[0;31mFileNotFoundError\u001b[0m                         Traceback (most recent call last)",
      "Cell \u001b[0;32mIn[3], line 3\u001b[0m\n\u001b[1;32m      1\u001b[0m \u001b[39mfrom\u001b[39;00m \u001b[39mdata_loader\u001b[39;00m\u001b[39m.\u001b[39;00m\u001b[39mMUTAG\u001b[39;00m \u001b[39mimport\u001b[39;00m data_loader\n\u001b[0;32m----> 3\u001b[0m data \u001b[39m=\u001b[39m data_loader(\u001b[39m'\u001b[39;49m\u001b[39m../datasets/MUTAG\u001b[39;49m\u001b[39m'\u001b[39;49m)\n",
      "File \u001b[0;32m~/project/myGNN/dataprocess/utils/data_loader/MUTAG.py:32\u001b[0m, in \u001b[0;36mdata_loader.__init__\u001b[0;34m(self, path)\u001b[0m\n\u001b[1;32m     30\u001b[0m \u001b[39mself\u001b[39m\u001b[39m.\u001b[39mgraphs \u001b[39m=\u001b[39m \u001b[39mself\u001b[39m\u001b[39m.\u001b[39m_torch2nx(_homoro_data)\n\u001b[1;32m     31\u001b[0m \u001b[39mself\u001b[39m\u001b[39m.\u001b[39mtrain_data, \u001b[39mself\u001b[39m\u001b[39m.\u001b[39mtest_data \u001b[39m=\u001b[39m \u001b[39mself\u001b[39m\u001b[39m.\u001b[39m_nx2torch(_homoro_data)\n\u001b[0;32m---> 32\u001b[0m \u001b[39mself\u001b[39m\u001b[39m.\u001b[39mnorm_ged_hetero, \u001b[39mself\u001b[39m\u001b[39m.\u001b[39mnorm_ged_homoro \u001b[39m=\u001b[39m \u001b[39mself\u001b[39;49m\u001b[39m.\u001b[39;49m_get_ged(_path)\n\u001b[1;32m     33\u001b[0m \u001b[39mself\u001b[39m\u001b[39m.\u001b[39m_save_files(_req_pkl_files)\n",
      "File \u001b[0;32m~/project/myGNN/dataprocess/utils/data_loader/MUTAG.py:110\u001b[0m, in \u001b[0;36mdata_loader._get_ged\u001b[0;34m(self, path)\u001b[0m\n\u001b[1;32m    108\u001b[0m     ged_hetero[i, i], ged_homoro[i, i] \u001b[39m=\u001b[39m \u001b[39m0.0\u001b[39m, \u001b[39m0.0\u001b[39m\n\u001b[1;32m    109\u001b[0m     norm_ged_hetero[i, i], norm_ged_homoro[i, i] \u001b[39m=\u001b[39m \u001b[39m0.0\u001b[39m, \u001b[39m0.0\u001b[39m\n\u001b[0;32m--> 110\u001b[0m \u001b[39mwith\u001b[39;00m \u001b[39mopen\u001b[39;49m(path \u001b[39m+\u001b[39;49m \u001b[39m'\u001b[39;49m\u001b[39m/GED_hetero.txt\u001b[39;49m\u001b[39m'\u001b[39;49m, \u001b[39m'\u001b[39;49m\u001b[39mr\u001b[39;49m\u001b[39m'\u001b[39;49m) \u001b[39mas\u001b[39;00m f:\n\u001b[1;32m    111\u001b[0m     \u001b[39mfor\u001b[39;00m line \u001b[39min\u001b[39;00m f:\n\u001b[1;32m    112\u001b[0m         G1_id, G2_id, tempged \u001b[39m=\u001b[39m line\u001b[39m.\u001b[39mstrip()\u001b[39m.\u001b[39msplit(\u001b[39m'\u001b[39m\u001b[39m\\t\u001b[39;00m\u001b[39m'\u001b[39m)\n",
      "\u001b[0;31mFileNotFoundError\u001b[0m: [Errno 2] No such file or directory: '../datasets/MUTAG/GED_hetero.txt'"
     ]
    }
   ],
   "source": [
    "from data_loader.MUTAG import data_loader\n",
    "\n",
    "data = data_loader('../datasets/MUTAG')"
   ]
  },
  {
   "cell_type": "code",
   "execution_count": null,
   "metadata": {},
   "outputs": [],
   "source": [
    "import networkx as nx\n",
    "import matplotlib.pyplot as plt\n",
    "import matplotlib.lines\n",
    "\n",
    "def draw_with_nx(graph):\n",
    "    plt.figure(figsize=(5, 5))\n",
    "    pos = nx.spring_layout(graph)\n",
    "\n",
    "    node_types = list(set([x[1] for x in graph.nodes(data=\"node_type\") if x[1] is not None]))\n",
    "    edge_types = list(set([x[2] for x in graph.edges(data=\"edge_type\") if x[2] is not None]))\n",
    "    # colors = [\"red\", \"gold\", \"blue\", \"black\", \"green\", \"m\", \"c\"]\n",
    "    colors = ['#63B2EE', '#F8CB7F', '#76DA91', '#F89588', '#439F99', '##FF70C5', ] + ['#999999'] * 23\n",
    "    nodes_colors = {node_types[i] : colors[node_types[i]] for i in range(len(node_types))}\n",
    "    edges_colors = {edge_types[i] : colors[edge_types[i]] for i in range(len(edge_types))}\n",
    "    nc, ec = [nodes_colors[node[1]] for node in graph.nodes(data='node_type')], [edges_colors[edge[2]] for edge in graph.edges(data='edge_type')]\n",
    "    nx.draw_networkx(graph, node_size=100, with_labels=False, node_color=nc, edge_color=ec)\n",
    "    plt.savefig(\"pre.png\", bbox_inches='tight', dpi=750)\n",
    "\n",
    "    # for node in graph.nodes(data='node_type'):\n",
    "    #     nx.draw_networkx_nodes(graph, pos, nodelist=[node[0]], node_color=nodes_colors[node[1]])\n",
    "    #     nx.draw_networkx_labels(graph, pos, font_color='whitesmoke')\n",
    "\n",
    "    # for edge in graph.edges(data='edge_type'):\n",
    "    #     nx.draw_networkx_edges(graph, pos, edgelist=[edge[:2]], edge_color=edges_colors[edge[2]])\n",
    "    # # 添加图例\n",
    "    # handles = []\n",
    "    # labels = []\n",
    "    # for node_type in node_types:\n",
    "    #     handles.append(matplotlib.lines.Line2D([], [], marker='o', color=nodes_colors[node_type], label=node_type, markersize=20))\n",
    "    #     labels.append(node_type)\n",
    "\n",
    "    # for edge_type in edge_types:\n",
    "    #     handles.append(matplotlib.lines.Line2D([], [], color=edges_colors[edge_type], label=edge_type))\n",
    "    #     labels.append(edge_type)\n",
    "    # plt.legend(handles, labels)\n",
    "    plt.show()"
   ]
  },
  {
   "cell_type": "code",
   "execution_count": null,
   "metadata": {},
   "outputs": [],
   "source": [
    "draw_with_nx(data.graphs[1499])"
   ]
  }
 ],
 "metadata": {
  "kernelspec": {
   "display_name": "hmn",
   "language": "python",
   "name": "python3"
  },
  "language_info": {
   "codemirror_mode": {
    "name": "ipython",
    "version": 3
   },
   "file_extension": ".py",
   "mimetype": "text/x-python",
   "name": "python",
   "nbconvert_exporter": "python",
   "pygments_lexer": "ipython3",
   "version": "3.9.18"
  },
  "orig_nbformat": 4,
  "vscode": {
   "interpreter": {
    "hash": "996db877bffc6ce6679d7e0fe81aa74cfdefd15b66a5d857a2b4f4d862a47225"
   }
  }
 },
 "nbformat": 4,
 "nbformat_minor": 2
}
